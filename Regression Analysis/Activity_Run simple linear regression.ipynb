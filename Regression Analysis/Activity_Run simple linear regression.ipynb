{
 "cells": [
  {
   "cell_type": "markdown",
   "metadata": {
    "id": "60359d86-93e3-495b-8a5a-263735b55320"
   },
   "source": [
    "# Activity: Run simple linear regression"
   ]
  },
  {
   "cell_type": "markdown",
   "metadata": {
    "id": "1ffc2b1e-7061-4100-b7a7-b7bed589c55e"
   },
   "source": [
    "## **Introduction**\n",
    "\n",
    "\n",
    "As you're learning, simple linear regression is a way to model the relationship between two variables. By assessing the direction and magnitude of a relationship, data professionals are able to uncover patterns and transform large amounts of data into valuable knowledge. This enables them to make better predictions and decisions. \n",
    "\n",
    "In this lab, you are part of an analytics team that provides insights about your company's sales and marketing practices. You have been assigned to a project that focuses on the use of influencer marketing. For this task, you will explore the relationship between your radio promotion budget and your sales. \n",
    "\n",
    "The dataset provided includes information about marketing campaigns across TV, radio, and social media, as well as how much revenue in sales was generated from these campaigns. Based on this information, company leaders will make decisions about where to focus future marketing resources. Therefore, it is critical to provide them with a clear understanding of the relationship between types of marketing campaigns and the revenue generated as a result of this investment."
   ]
  },
  {
   "cell_type": "markdown",
   "metadata": {
    "id": "92b22e4b-fcb0-4f99-98fb-f639669dce2d"
   },
   "source": [
    "## **Step 1: Imports** \n"
   ]
  },
  {
   "cell_type": "markdown",
   "metadata": {
    "id": "a1cc0f65-3243-4915-ae6a-e9f050c08e3a"
   },
   "source": [
    "Import relevant Python libraries and modules."
   ]
  },
  {
   "cell_type": "code",
   "execution_count": 1,
   "metadata": {
    "id": "ac02e2f5-e96d-4046-b8b8-a46cb06939f6"
   },
   "outputs": [
    {
     "name": "stderr",
     "output_type": "stream",
     "text": [
      "/Users/xinyiliu/opt/anaconda3/lib/python3.7/site-packages/statsmodels/tools/_testing.py:19: FutureWarning: pandas.util.testing is deprecated. Use the functions in the public API at pandas.testing instead.\n",
      "  import pandas.util.testing as tm\n"
     ]
    }
   ],
   "source": [
    "# Import relevant Python libraries and modules.\n",
    "\n",
    "### YOUR CODE HERE ###\n",
    "import pandas as pd\n",
    "import matplotlib.pyplot as plt\n",
    "import seaborn as sns\n",
    "from statsmodels.formula.api import ols\n",
    "import statsmodels.api as sm"
   ]
  },
  {
   "cell_type": "markdown",
   "metadata": {
    "id": "e385eecf-7003-44da-87bb-1a2e1a9f9de3"
   },
   "source": [
    "Now load the dataset into a DataFrame. The dataset provided is a .csv file (named `marketing_sales_data.csv`), which contains information about marketing conducted in collaboration with influencers, along with corresponding sales. Assume that the numerical variables in the data are expressed in millions of dollars.\n",
    "\n",
    "**Note:** This is a fictional dataset that was created for educational purposes and modified for this lab. "
   ]
  },
  {
   "cell_type": "code",
   "execution_count": 2,
   "metadata": {
    "id": "d285e184-40f6-401a-98b6-f266e7a65e48"
   },
   "outputs": [],
   "source": [
    "# Load the dataset into a DataFrame and save in a variable.\n",
    "\n",
    "### YOUR CODE HERE ###\n",
    "data = pd.read_csv(\"marketing_sales_data.csv\")"
   ]
  },
  {
   "cell_type": "markdown",
   "metadata": {
    "id": "lXPOJ3LO-v7J",
    "jp-MarkdownHeadingCollapsed": true,
    "tags": []
   },
   "source": [
    "<details>\n",
    "  <summary><h4><strong>Hint 1</strong></h4></summary>\n",
    "\n",
    "Refer to what you learned about loading data in Python.\n",
    "\n",
    "</details>"
   ]
  },
  {
   "cell_type": "markdown",
   "metadata": {
    "id": "O5TEL8Ty-v7L",
    "jp-MarkdownHeadingCollapsed": true,
    "tags": []
   },
   "source": [
    "<details>\n",
    "  <summary><h4><strong>Hint 2</strong></h4></summary>\n",
    "\n",
    "There is a function in the `pandas` library that allows you to read data from a .csv file and load the data into a DataFrame.\n",
    " \n",
    "\n",
    "</details>"
   ]
  },
  {
   "cell_type": "markdown",
   "metadata": {
    "id": "kEx2SsH2-v7M",
    "jp-MarkdownHeadingCollapsed": true,
    "tags": []
   },
   "source": [
    "<details>\n",
    "  <summary><h4><strong>Hint 3</strong></h4></summary>\n",
    "\n",
    "Use the `read_csv()` function from the `pandas` library. \n",
    "\n",
    "</details>"
   ]
  },
  {
   "cell_type": "markdown",
   "metadata": {
    "id": "18981762-ab15-441e-8cc7-16848fd6c9d2"
   },
   "source": [
    "## **Step 2: Data exploration** \n"
   ]
  },
  {
   "cell_type": "markdown",
   "metadata": {
    "id": "07264b51-9724-4cba-b5f0-3f508e392675"
   },
   "source": [
    "To get a sense of what the data includes, display the first 10 rows of the data."
   ]
  },
  {
   "cell_type": "code",
   "execution_count": 3,
   "metadata": {
    "id": "e86b8a7c-0e6a-4fee-b810-9d08e35b6eb6"
   },
   "outputs": [
    {
     "data": {
      "text/html": [
       "<div>\n",
       "<style scoped>\n",
       "    .dataframe tbody tr th:only-of-type {\n",
       "        vertical-align: middle;\n",
       "    }\n",
       "\n",
       "    .dataframe tbody tr th {\n",
       "        vertical-align: top;\n",
       "    }\n",
       "\n",
       "    .dataframe thead th {\n",
       "        text-align: right;\n",
       "    }\n",
       "</style>\n",
       "<table border=\"1\" class=\"dataframe\">\n",
       "  <thead>\n",
       "    <tr style=\"text-align: right;\">\n",
       "      <th></th>\n",
       "      <th>TV</th>\n",
       "      <th>Radio</th>\n",
       "      <th>Social Media</th>\n",
       "      <th>Influencer</th>\n",
       "      <th>Sales</th>\n",
       "    </tr>\n",
       "  </thead>\n",
       "  <tbody>\n",
       "    <tr>\n",
       "      <th>0</th>\n",
       "      <td>Low</td>\n",
       "      <td>1.218354</td>\n",
       "      <td>1.270444</td>\n",
       "      <td>Micro</td>\n",
       "      <td>90.054222</td>\n",
       "    </tr>\n",
       "    <tr>\n",
       "      <th>1</th>\n",
       "      <td>Medium</td>\n",
       "      <td>14.949791</td>\n",
       "      <td>0.274451</td>\n",
       "      <td>Macro</td>\n",
       "      <td>222.741668</td>\n",
       "    </tr>\n",
       "    <tr>\n",
       "      <th>2</th>\n",
       "      <td>Low</td>\n",
       "      <td>10.377258</td>\n",
       "      <td>0.061984</td>\n",
       "      <td>Mega</td>\n",
       "      <td>102.774790</td>\n",
       "    </tr>\n",
       "    <tr>\n",
       "      <th>3</th>\n",
       "      <td>High</td>\n",
       "      <td>26.469274</td>\n",
       "      <td>7.070945</td>\n",
       "      <td>Micro</td>\n",
       "      <td>328.239378</td>\n",
       "    </tr>\n",
       "    <tr>\n",
       "      <th>4</th>\n",
       "      <td>High</td>\n",
       "      <td>36.876302</td>\n",
       "      <td>7.618605</td>\n",
       "      <td>Mega</td>\n",
       "      <td>351.807328</td>\n",
       "    </tr>\n",
       "    <tr>\n",
       "      <th>5</th>\n",
       "      <td>High</td>\n",
       "      <td>25.561910</td>\n",
       "      <td>5.459718</td>\n",
       "      <td>Micro</td>\n",
       "      <td>261.966812</td>\n",
       "    </tr>\n",
       "    <tr>\n",
       "      <th>6</th>\n",
       "      <td>High</td>\n",
       "      <td>37.263819</td>\n",
       "      <td>6.886535</td>\n",
       "      <td>Nano</td>\n",
       "      <td>349.861575</td>\n",
       "    </tr>\n",
       "    <tr>\n",
       "      <th>7</th>\n",
       "      <td>Low</td>\n",
       "      <td>13.187256</td>\n",
       "      <td>2.766352</td>\n",
       "      <td>Macro</td>\n",
       "      <td>140.415286</td>\n",
       "    </tr>\n",
       "    <tr>\n",
       "      <th>8</th>\n",
       "      <td>High</td>\n",
       "      <td>29.520170</td>\n",
       "      <td>2.333157</td>\n",
       "      <td>Nano</td>\n",
       "      <td>264.592233</td>\n",
       "    </tr>\n",
       "    <tr>\n",
       "      <th>9</th>\n",
       "      <td>Low</td>\n",
       "      <td>3.773287</td>\n",
       "      <td>0.135074</td>\n",
       "      <td>Nano</td>\n",
       "      <td>55.674214</td>\n",
       "    </tr>\n",
       "  </tbody>\n",
       "</table>\n",
       "</div>"
      ],
      "text/plain": [
       "       TV      Radio  Social Media Influencer       Sales\n",
       "0     Low   1.218354      1.270444      Micro   90.054222\n",
       "1  Medium  14.949791      0.274451      Macro  222.741668\n",
       "2     Low  10.377258      0.061984       Mega  102.774790\n",
       "3    High  26.469274      7.070945      Micro  328.239378\n",
       "4    High  36.876302      7.618605       Mega  351.807328\n",
       "5    High  25.561910      5.459718      Micro  261.966812\n",
       "6    High  37.263819      6.886535       Nano  349.861575\n",
       "7     Low  13.187256      2.766352      Macro  140.415286\n",
       "8    High  29.520170      2.333157       Nano  264.592233\n",
       "9     Low   3.773287      0.135074       Nano   55.674214"
      ]
     },
     "execution_count": 3,
     "metadata": {},
     "output_type": "execute_result"
    }
   ],
   "source": [
    "# Display the first 10 rows of the data.\n",
    "\n",
    "### YOUR CODE HERE ###\n",
    "data.head(10)"
   ]
  },
  {
   "cell_type": "markdown",
   "metadata": {
    "id": "49881dfd-4532-424f-9729-f5378d984df0",
    "jp-MarkdownHeadingCollapsed": true,
    "tags": []
   },
   "source": [
    "<details>\n",
    "  <summary><h4><strong>Hint 1</strong></h4></summary>\n",
    "\n",
    "Refer to what you learned about exploring datasets in Python.\n",
    "\n",
    "</details>"
   ]
  },
  {
   "cell_type": "markdown",
   "metadata": {
    "id": "k2QxFOi9HW1Q",
    "jp-MarkdownHeadingCollapsed": true,
    "tags": []
   },
   "source": [
    "<details>\n",
    "  <summary><h4><strong>Hint 2</strong></h4></summary>\n",
    "\n",
    "  There is a function in the `pandas` library that allows you to get a specific number of rows from the top of a DataFrame.\n",
    " \n",
    "\n",
    "</details>"
   ]
  },
  {
   "cell_type": "markdown",
   "metadata": {
    "id": "ptkclWFzHjHv",
    "jp-MarkdownHeadingCollapsed": true,
    "tags": []
   },
   "source": [
    "<details>\n",
    "  <summary><h4><strong>Hint 3</strong></h4></summary>\n",
    "\n",
    "Use the `head()` function from the `pandas` library. \n",
    "\n",
    "</details>"
   ]
  },
  {
   "cell_type": "markdown",
   "metadata": {
    "id": "70e40948-980d-41b1-a17d-78ecfd62ab21"
   },
   "source": [
    "**Question:** What do you observe about the different variables included in the data?"
   ]
  },
  {
   "cell_type": "markdown",
   "metadata": {
    "id": "Eh2HFr3CiPiC"
   },
   "source": [
    "[Write your response here. Double-click (or enter) to edit.]"
   ]
  },
  {
   "cell_type": "markdown",
   "metadata": {
    "id": "d7dafc3d-ae53-471e-a91e-2b177dee576a"
   },
   "source": [
    "Next, to get a sense of the size of the dataset, identify the number of rows and the number of columns."
   ]
  },
  {
   "cell_type": "code",
   "execution_count": 4,
   "metadata": {
    "id": "829c217b-5504-4b01-9f2f-ef4530c5d6a5"
   },
   "outputs": [
    {
     "data": {
      "text/plain": [
       "(572, 5)"
      ]
     },
     "execution_count": 4,
     "metadata": {},
     "output_type": "execute_result"
    }
   ],
   "source": [
    "# Display number of rows, number of columns.\n",
    "\n",
    "### YOUR CODE HERE ###\n",
    "data.shape"
   ]
  },
  {
   "cell_type": "markdown",
   "metadata": {
    "id": "AlENNCbBChZd",
    "jp-MarkdownHeadingCollapsed": true,
    "tags": []
   },
   "source": [
    "<details>\n",
    "  <summary><h4><strong>Hint 1</strong></h4></summary>\n",
    "\n",
    "Refer to what you learned about exploring datasets in Python.\n",
    "\n",
    "</details>"
   ]
  },
  {
   "cell_type": "markdown",
   "metadata": {
    "id": "Wq72auJsChZf",
    "jp-MarkdownHeadingCollapsed": true,
    "tags": []
   },
   "source": [
    "<details>\n",
    "  <summary><h4><strong>Hint 2</strong></h4></summary>\n",
    "\n",
    "There is a property in every DataFrame in `pandas` that gives you access to the number of rows and the number of columns as a tuple.\n",
    "\n",
    "</details>"
   ]
  },
  {
   "cell_type": "markdown",
   "metadata": {
    "id": "QhI8U7wkChZg",
    "jp-MarkdownHeadingCollapsed": true,
    "tags": []
   },
   "source": [
    "<details>\n",
    "  <summary><h4><strong>Hint 3</strong></h4></summary>\n",
    "\n",
    "Use the `shape` property.\n",
    "\n",
    "</details>"
   ]
  },
  {
   "cell_type": "markdown",
   "metadata": {
    "id": "3c5721af-2d79-4d2c-a0b1-d38d2b154d47",
    "tags": []
   },
   "source": [
    "**Question:** How many rows and columns exist in the data?"
   ]
  },
  {
   "cell_type": "markdown",
   "metadata": {
    "id": "OyHSIQkxiQp5"
   },
   "source": [
    "[Write your response here. Double-click (or enter) to edit.]"
   ]
  },
  {
   "cell_type": "markdown",
   "metadata": {},
   "source": [
    "Now, check for missing values in the rows of the data. This is important because missing values are not that meaningful when modeling the relationship between two variables. To do so, begin by getting Booleans that indicate whether each value in the data is missing. Then, check both columns and rows for missing values."
   ]
  },
  {
   "cell_type": "code",
   "execution_count": 5,
   "metadata": {
    "id": "a087e249-4392-4168-80ee-153dfbd9660f"
   },
   "outputs": [
    {
     "data": {
      "text/html": [
       "<div>\n",
       "<style scoped>\n",
       "    .dataframe tbody tr th:only-of-type {\n",
       "        vertical-align: middle;\n",
       "    }\n",
       "\n",
       "    .dataframe tbody tr th {\n",
       "        vertical-align: top;\n",
       "    }\n",
       "\n",
       "    .dataframe thead th {\n",
       "        text-align: right;\n",
       "    }\n",
       "</style>\n",
       "<table border=\"1\" class=\"dataframe\">\n",
       "  <thead>\n",
       "    <tr style=\"text-align: right;\">\n",
       "      <th></th>\n",
       "      <th>TV</th>\n",
       "      <th>Radio</th>\n",
       "      <th>Social Media</th>\n",
       "      <th>Influencer</th>\n",
       "      <th>Sales</th>\n",
       "    </tr>\n",
       "  </thead>\n",
       "  <tbody>\n",
       "    <tr>\n",
       "      <th>0</th>\n",
       "      <td>False</td>\n",
       "      <td>False</td>\n",
       "      <td>False</td>\n",
       "      <td>False</td>\n",
       "      <td>False</td>\n",
       "    </tr>\n",
       "    <tr>\n",
       "      <th>1</th>\n",
       "      <td>False</td>\n",
       "      <td>False</td>\n",
       "      <td>False</td>\n",
       "      <td>False</td>\n",
       "      <td>False</td>\n",
       "    </tr>\n",
       "    <tr>\n",
       "      <th>2</th>\n",
       "      <td>False</td>\n",
       "      <td>False</td>\n",
       "      <td>False</td>\n",
       "      <td>False</td>\n",
       "      <td>False</td>\n",
       "    </tr>\n",
       "    <tr>\n",
       "      <th>3</th>\n",
       "      <td>False</td>\n",
       "      <td>False</td>\n",
       "      <td>False</td>\n",
       "      <td>False</td>\n",
       "      <td>False</td>\n",
       "    </tr>\n",
       "    <tr>\n",
       "      <th>4</th>\n",
       "      <td>False</td>\n",
       "      <td>False</td>\n",
       "      <td>False</td>\n",
       "      <td>False</td>\n",
       "      <td>False</td>\n",
       "    </tr>\n",
       "    <tr>\n",
       "      <th>...</th>\n",
       "      <td>...</td>\n",
       "      <td>...</td>\n",
       "      <td>...</td>\n",
       "      <td>...</td>\n",
       "      <td>...</td>\n",
       "    </tr>\n",
       "    <tr>\n",
       "      <th>567</th>\n",
       "      <td>False</td>\n",
       "      <td>False</td>\n",
       "      <td>False</td>\n",
       "      <td>False</td>\n",
       "      <td>False</td>\n",
       "    </tr>\n",
       "    <tr>\n",
       "      <th>568</th>\n",
       "      <td>False</td>\n",
       "      <td>False</td>\n",
       "      <td>False</td>\n",
       "      <td>False</td>\n",
       "      <td>False</td>\n",
       "    </tr>\n",
       "    <tr>\n",
       "      <th>569</th>\n",
       "      <td>False</td>\n",
       "      <td>False</td>\n",
       "      <td>False</td>\n",
       "      <td>False</td>\n",
       "      <td>False</td>\n",
       "    </tr>\n",
       "    <tr>\n",
       "      <th>570</th>\n",
       "      <td>False</td>\n",
       "      <td>False</td>\n",
       "      <td>False</td>\n",
       "      <td>False</td>\n",
       "      <td>False</td>\n",
       "    </tr>\n",
       "    <tr>\n",
       "      <th>571</th>\n",
       "      <td>False</td>\n",
       "      <td>False</td>\n",
       "      <td>False</td>\n",
       "      <td>False</td>\n",
       "      <td>False</td>\n",
       "    </tr>\n",
       "  </tbody>\n",
       "</table>\n",
       "<p>572 rows × 5 columns</p>\n",
       "</div>"
      ],
      "text/plain": [
       "        TV  Radio  Social Media  Influencer  Sales\n",
       "0    False  False         False       False  False\n",
       "1    False  False         False       False  False\n",
       "2    False  False         False       False  False\n",
       "3    False  False         False       False  False\n",
       "4    False  False         False       False  False\n",
       "..     ...    ...           ...         ...    ...\n",
       "567  False  False         False       False  False\n",
       "568  False  False         False       False  False\n",
       "569  False  False         False       False  False\n",
       "570  False  False         False       False  False\n",
       "571  False  False         False       False  False\n",
       "\n",
       "[572 rows x 5 columns]"
      ]
     },
     "execution_count": 5,
     "metadata": {},
     "output_type": "execute_result"
    }
   ],
   "source": [
    "# Start with .isna() to get booleans indicating whether each value in the data is missing.\n",
    "\n",
    "### YOUR CODE HERE ###\n",
    "data.isna()"
   ]
  },
  {
   "cell_type": "markdown",
   "metadata": {
    "id": "3bd09ee1-60c5-4f88-bd50-17491f715a39"
   },
   "source": [
    "If you would like to read more about the `isna()` function, refer to its documentation in the references section of this lab."
   ]
  },
  {
   "cell_type": "code",
   "execution_count": 6,
   "metadata": {
    "id": "f08b6e59-daf5-4aca-a63e-7b7f0c188449"
   },
   "outputs": [
    {
     "data": {
      "text/plain": [
       "0      False\n",
       "1      False\n",
       "2      False\n",
       "3      False\n",
       "4      False\n",
       "       ...  \n",
       "567    False\n",
       "568    False\n",
       "569    False\n",
       "570    False\n",
       "571    False\n",
       "Length: 572, dtype: bool"
      ]
     },
     "execution_count": 6,
     "metadata": {},
     "output_type": "execute_result"
    }
   ],
   "source": [
    "# Use .any(axis=1) to get booleans indicating whether there are any missing values along the columns in each row.\n",
    "\n",
    "### YOUR CODE HERE ###\n",
    "data.isna().any(axis = 1)\n"
   ]
  },
  {
   "cell_type": "markdown",
   "metadata": {
    "id": "e6bc866e-b4da-4562-b066-3f1201b0e0c1"
   },
   "source": [
    "If you would like to read more about the `any()` function, refer to its documentation in the references section of this lab."
   ]
  },
  {
   "cell_type": "code",
   "execution_count": 8,
   "metadata": {
    "id": "8e403e86-0a72-44a9-8d92-dd57f9c0caca"
   },
   "outputs": [
    {
     "data": {
      "text/plain": [
       "3"
      ]
     },
     "execution_count": 8,
     "metadata": {},
     "output_type": "execute_result"
    }
   ],
   "source": [
    "# Use .sum() to get the number of rows that contain missing values.\n",
    "\n",
    "### YOUR CODE HERE ###\n",
    "data.isna().any(axis = 1).sum()"
   ]
  },
  {
   "cell_type": "markdown",
   "metadata": {
    "id": "8e75b7b7-8474-4eb7-9616-3f1dc017db86"
   },
   "source": [
    "If you would like to read more about the `sum()` function, refer to its documentation in the references section of this lab."
   ]
  },
  {
   "cell_type": "markdown",
   "metadata": {
    "id": "1b0da416-2142-4109-b1ca-48d0e620f2b2",
    "tags": []
   },
   "source": [
    "**Question:** How many rows containing missing values?"
   ]
  },
  {
   "cell_type": "markdown",
   "metadata": {
    "id": "f9ActhhsiR0p"
   },
   "source": [
    "[Write your response here. Double-click (or enter) to edit.]"
   ]
  },
  {
   "cell_type": "markdown",
   "metadata": {
    "id": "378974cf-892b-43f9-80fc-7b7271531915",
    "tags": []
   },
   "source": [
    "Next, drop the rows that contain missing values. Data cleaning makes your data more usable for analysis and regression. Then, check to make sure that the resulting data does not contain any rows with missing values."
   ]
  },
  {
   "cell_type": "code",
   "execution_count": 9,
   "metadata": {
    "id": "fed80cba-aa90-4c9d-a9d9-d995fa9a649d"
   },
   "outputs": [],
   "source": [
    "# Use .dropna(axis=0) to indicate that you want rows which contain missing values to be dropped. To update the DataFrame, reassign it to the result.\n",
    "\n",
    "### YOUR CODE HERE ###\n",
    "data = data.dropna(axis = 0)\n"
   ]
  },
  {
   "cell_type": "code",
   "execution_count": 10,
   "metadata": {
    "id": "540f9c5d-5036-4df3-976b-2c1348a235fe"
   },
   "outputs": [
    {
     "data": {
      "text/plain": [
       "0"
      ]
     },
     "execution_count": 10,
     "metadata": {},
     "output_type": "execute_result"
    }
   ],
   "source": [
    "# Start with .isna() to get booleans indicating whether each value in the data is missing.\n",
    "# Use .any(axis=1) to get booleans indicating whether there are any missing values along the columns in each row.\n",
    "# Use .sum() to get the number of rows that contain missing values\n",
    "\n",
    "### YOUR CODE HERE ###\n",
    "data.isna().any(axis = 1).sum()\n"
   ]
  },
  {
   "cell_type": "markdown",
   "metadata": {
    "id": "04271393-b4a7-40b8-8cfd-6dfd815f52bd",
    "tags": []
   },
   "source": [
    "The next step for this task is checking model assumptions. To explore the relationship between radio promotion budget and sales, model the relationship using linear regression. Begin by confirming whether the model assumptions for linear regression can be made in this context. \n",
    "\n",
    "**Note:** Some of the assumptions can be addressed before the model is built. These will be addressed in this section. After the model is built, you will finish checking the assumptions."
   ]
  },
  {
   "cell_type": "markdown",
   "metadata": {
    "id": "0781c130-3f65-4fcb-a137-cd6b3e057187"
   },
   "source": [
    "Create a plot of pairwise relationships in the data. This will help you visualize the relationships and check model assumptions. "
   ]
  },
  {
   "cell_type": "code",
   "execution_count": 11,
   "metadata": {
    "id": "cfb20968-e969-495b-9b34-1de2d7b110f6"
   },
   "outputs": [
    {
     "data": {
      "text/plain": [
       "<seaborn.axisgrid.PairGrid at 0x7feeb6a45250>"
      ]
     },
     "execution_count": 11,
     "metadata": {},
     "output_type": "execute_result"
    },
    {
     "data": {
      "image/png": "[encoded data removed]",
      "text/plain": [
       "<Figure size 540x540 with 12 Axes>"
      ]
     },
     "metadata": {
      "needs_background": "light"
     },
     "output_type": "display_data"
    }
   ],
   "source": [
    "# Create plot of pairwise relationships.\n",
    "\n",
    "### YOUR CODE HERE ###\n",
    "sns.pairplot(data)"
   ]
  },
  {
   "cell_type": "markdown",
   "metadata": {
    "id": "aba2029f-5371-4214-8497-9a8be492c68b",
    "tags": []
   },
   "source": [
    "<details>\n",
    "<summary><h4><strong>Hint 1</strong></h4></summary>\n",
    "\n",
    "Refer to the video section about creating a plot that shows the relationships between pairs of variables.\n",
    "\n",
    "</details>"
   ]
  },
  {
   "cell_type": "markdown",
   "metadata": {
    "id": "eecb9ac6-6cae-4b86-b2dc-b6f07b19a6bf",
    "jp-MarkdownHeadingCollapsed": true,
    "tags": []
   },
   "source": [
    "<details>\n",
    "<summary><h4><strong>Hint 2</strong></h4></summary>\n",
    "\n",
    "  There is a function in the `seaborn` library that you can call to create a plot that shows the \n",
    "  relationships between pairs of variables.\n",
    "\n",
    "</details>"
   ]
  },
  {
   "cell_type": "markdown",
   "metadata": {
    "id": "edfdd31e-85f3-4d25-837f-72c09e93110d",
    "tags": []
   },
   "source": [
    "<details>\n",
    "<summary><h4><strong>Hint 3</strong></h4></summary>\n",
    "\n",
    "Call the `pairplot()` function from the `seaborn` library.\n",
    "\n",
    "</details>"
   ]
  },
  {
   "cell_type": "markdown",
   "metadata": {
    "id": "4119330d-82f9-4075-8c12-3db273bdf9b3",
    "tags": []
   },
   "source": [
    "**Question:** Is the assumption of linearity met?"
   ]
  },
  {
   "cell_type": "markdown",
   "metadata": {
    "id": "bp7NAEpyiTXH"
   },
   "source": [
    "[Write your response here. Double-click (or enter) to edit.]"
   ]
  },
  {
   "cell_type": "markdown",
   "metadata": {
    "id": "1be09689-a693-4059-adeb-945ce8e4e117",
    "jp-MarkdownHeadingCollapsed": true,
    "tags": []
   },
   "source": [
    "<details>\n",
    "<summary><h4><strong>Hint 1</strong></h4></summary>\n",
    "\n",
    "Refer to the video section about checking model assumptions for linear regression.\n",
    "\n",
    "</details>"
   ]
  },
  {
   "cell_type": "markdown",
   "metadata": {
    "id": "e88fc7fe-ce13-4a05-8b46-68f6e82516e7",
    "jp-MarkdownHeadingCollapsed": true,
    "tags": []
   },
   "source": [
    "<details>\n",
    "<summary><h4><strong>Hint 2</strong></h4></summary>\n",
    "\n",
    "  Use the scatterplot of `Sales` over `Radio` found in the above plot of pairwise relationships. \n",
    "\n",
    "</details>"
   ]
  },
  {
   "cell_type": "markdown",
   "metadata": {
    "id": "9234580a-503a-47b4-83d2-ba8ee46ec407",
    "tags": []
   },
   "source": [
    "<details>\n",
    "<summary><h4><strong>Hint 3</strong></h4></summary>\n",
    "\n",
    "  Check the scatterplot of `Sales` over `Radio` found in the plot of pairwise relationships. If the data points cluster around a line, that indicates that the assumption of linearity is met. Alternatively, if the data points resemble a random cloud or a curve, then a linear model may not fit the data.  \n",
    "\n",
    "</details>"
   ]
  },
  {
   "cell_type": "markdown",
   "metadata": {
    "id": "39ab5dd9-ea2a-46ce-b3a3-8077d52a833a"
   },
   "source": [
    "## **Step 3: Model building** "
   ]
  },
  {
   "cell_type": "markdown",
   "metadata": {
    "id": "3cd2422c-0f5e-4ac7-89ed-52803d971555"
   },
   "source": [
    "Select only the columns that are needed for the model."
   ]
  },
  {
   "cell_type": "code",
   "execution_count": 13,
   "metadata": {
    "id": "17701ff3-82f0-4300-90c0-bca6ccce01eb"
   },
   "outputs": [],
   "source": [
    "# Select relevant columns.\n",
    "# Save resulting DataFrame in a separate variable to prepare for regression.\n",
    "\n",
    "### YOUR CODE HERE ###\n",
    "ols_data = data[['Radio','Sales']]"
   ]
  },
  {
   "cell_type": "markdown",
   "metadata": {
    "id": "e4c39136-f4d6-43a2-950a-e76db253f8c5",
    "jp-MarkdownHeadingCollapsed": true,
    "tags": []
   },
   "source": [
    "<details>\n",
    "<summary><h4><strong>Hint 1</strong></h4></summary>\n",
    "\n",
    "Refer to the video about selecting multiple columns from a DataFrame.\n",
    "\n",
    "</details>"
   ]
  },
  {
   "cell_type": "markdown",
   "metadata": {
    "id": "1a342164-70eb-4a3f-9ddf-e9a8a22a9ad1",
    "jp-MarkdownHeadingCollapsed": true,
    "tags": []
   },
   "source": [
    "<details>\n",
    "<summary><h4><strong>Hint 2</strong></h4></summary>\n",
    "\n",
    "  Use two pairs of square brackets around the names of the columns that should be selected.\n",
    "\n",
    "</details>"
   ]
  },
  {
   "cell_type": "markdown",
   "metadata": {
    "id": "260ce4a1-10b9-420b-be6d-b3e109227bd1",
    "tags": []
   },
   "source": [
    "<details>\n",
    "<summary><h4><strong>Hint 3</strong></h4></summary>\n",
    "\n",
    "  Make sure column names are spelled exactly as they are in the data.\n",
    "\n",
    "</details>"
   ]
  },
  {
   "cell_type": "markdown",
   "metadata": {
    "id": "1ea8080e-7f93-4ea6-a0b6-bedeaed3a856"
   },
   "source": [
    "Now, display the first 10 rows of the new DataFrame to better understand the data."
   ]
  },
  {
   "cell_type": "code",
   "execution_count": 14,
   "metadata": {
    "id": "39a7ccec-e572-46a8-9139-c4e159e75aae"
   },
   "outputs": [
    {
     "data": {
      "text/html": [
       "<div>\n",
       "<style scoped>\n",
       "    .dataframe tbody tr th:only-of-type {\n",
       "        vertical-align: middle;\n",
       "    }\n",
       "\n",
       "    .dataframe tbody tr th {\n",
       "        vertical-align: top;\n",
       "    }\n",
       "\n",
       "    .dataframe thead th {\n",
       "        text-align: right;\n",
       "    }\n",
       "</style>\n",
       "<table border=\"1\" class=\"dataframe\">\n",
       "  <thead>\n",
       "    <tr style=\"text-align: right;\">\n",
       "      <th></th>\n",
       "      <th>Radio</th>\n",
       "      <th>Sales</th>\n",
       "    </tr>\n",
       "  </thead>\n",
       "  <tbody>\n",
       "    <tr>\n",
       "      <th>0</th>\n",
       "      <td>1.218354</td>\n",
       "      <td>90.054222</td>\n",
       "    </tr>\n",
       "    <tr>\n",
       "      <th>1</th>\n",
       "      <td>14.949791</td>\n",
       "      <td>222.741668</td>\n",
       "    </tr>\n",
       "    <tr>\n",
       "      <th>2</th>\n",
       "      <td>10.377258</td>\n",
       "      <td>102.774790</td>\n",
       "    </tr>\n",
       "    <tr>\n",
       "      <th>3</th>\n",
       "      <td>26.469274</td>\n",
       "      <td>328.239378</td>\n",
       "    </tr>\n",
       "    <tr>\n",
       "      <th>4</th>\n",
       "      <td>36.876302</td>\n",
       "      <td>351.807328</td>\n",
       "    </tr>\n",
       "    <tr>\n",
       "      <th>5</th>\n",
       "      <td>25.561910</td>\n",
       "      <td>261.966812</td>\n",
       "    </tr>\n",
       "    <tr>\n",
       "      <th>6</th>\n",
       "      <td>37.263819</td>\n",
       "      <td>349.861575</td>\n",
       "    </tr>\n",
       "    <tr>\n",
       "      <th>7</th>\n",
       "      <td>13.187256</td>\n",
       "      <td>140.415286</td>\n",
       "    </tr>\n",
       "    <tr>\n",
       "      <th>8</th>\n",
       "      <td>29.520170</td>\n",
       "      <td>264.592233</td>\n",
       "    </tr>\n",
       "    <tr>\n",
       "      <th>9</th>\n",
       "      <td>3.773287</td>\n",
       "      <td>55.674214</td>\n",
       "    </tr>\n",
       "  </tbody>\n",
       "</table>\n",
       "</div>"
      ],
      "text/plain": [
       "       Radio       Sales\n",
       "0   1.218354   90.054222\n",
       "1  14.949791  222.741668\n",
       "2  10.377258  102.774790\n",
       "3  26.469274  328.239378\n",
       "4  36.876302  351.807328\n",
       "5  25.561910  261.966812\n",
       "6  37.263819  349.861575\n",
       "7  13.187256  140.415286\n",
       "8  29.520170  264.592233\n",
       "9   3.773287   55.674214"
      ]
     },
     "execution_count": 14,
     "metadata": {},
     "output_type": "execute_result"
    }
   ],
   "source": [
    "# Display first 10 rows of the new DataFrame.\n",
    "\n",
    "### YOUR CODE HERE ###\n",
    "ols_data.head(10)"
   ]
  },
  {
   "cell_type": "markdown",
   "metadata": {
    "id": "dcd2bea2-dbbd-4e07-85b7-ac3f3121fc20",
    "tags": []
   },
   "source": [
    "<details>\n",
    "<summary><h4><strong>Hint 1</strong></h4></summary>\n",
    "\n",
    "Refer to the video about displaying contents of a DataFrame.\n",
    "\n",
    "</details>"
   ]
  },
  {
   "cell_type": "markdown",
   "metadata": {
    "id": "119e5c4b-e37f-4832-bca5-7ea9170a1e60",
    "jp-MarkdownHeadingCollapsed": true,
    "tags": []
   },
   "source": [
    "<details>\n",
    "<summary><h4><strong>Hint 2</strong></h4></summary>\n",
    "\n",
    "  There is a function in the `pandas` library that allows you to display the first n number of rows of a DataFrame, where n is a number of your choice.\n",
    "\n",
    "</details>"
   ]
  },
  {
   "cell_type": "markdown",
   "metadata": {
    "id": "68ec36bd-8617-43bd-be30-132fcb369db1",
    "tags": []
   },
   "source": [
    "<details>\n",
    "<summary><h4><strong>Hint 3</strong></h4></summary>\n",
    "\n",
    "  Call the `head()` function from the `pandas` library and pass in the number of rows from the top that you want to display. \n",
    "\n",
    "</details>"
   ]
  },
  {
   "cell_type": "markdown",
   "metadata": {
    "id": "be7f9869-c67e-4c87-b186-7461a00a9b37"
   },
   "source": [
    "Next, write the linear regression formula for modeling the relationship between the two variables of interest."
   ]
  },
  {
   "cell_type": "code",
   "execution_count": 15,
   "metadata": {
    "id": "f186ff9a-2c18-4cc6-acb3-3b7bf0c0c942"
   },
   "outputs": [],
   "source": [
    "# Write the linear regression formula.\n",
    "# Save it in a variable.\n",
    "\n",
    "### YOUR CODE HERE ###\n",
    "ols_formula = \"Sales ~ Radio\""
   ]
  },
  {
   "cell_type": "markdown",
   "metadata": {
    "id": "69f2b790-4859-4bf6-8eba-45998ddcc599",
    "tags": []
   },
   "source": [
    "<details>\n",
    "<summary><h4><strong>Hint 1</strong></h4></summary>\n",
    "\n",
    "Refer to the video section where model building for linear regression is discussed. \n",
    "\n",
    "</details>"
   ]
  },
  {
   "cell_type": "markdown",
   "metadata": {
    "id": "4bf1a70c-61a8-4802-a16d-e6d8b08cc9ca",
    "tags": []
   },
   "source": [
    "<details>\n",
    "<summary><h4><strong>Hint 2</strong></h4></summary>\n",
    "\n",
    "  Save the formula as string.\n",
    "\n",
    "</details>"
   ]
  },
  {
   "cell_type": "markdown",
   "metadata": {
    "id": "67d7406a-0074-4029-9bda-9f97f653a979",
    "tags": []
   },
   "source": [
    "<details>\n",
    "<summary><h4><strong>Hint 3</strong></h4></summary>\n",
    "\n",
    "  Use a tilde to separate the y variable from the x variable so that the computer understands which is which. Make sure the spelling of each variable exactly matches the corresponding column from the data.\n",
    "\n",
    "</details>"
   ]
  },
  {
   "cell_type": "markdown",
   "metadata": {
    "id": "d855f4df-61d5-44a9-996c-9c4080d2be27"
   },
   "source": [
    "Now, implement the ordinary least squares (OLS) approach for linear regression."
   ]
  },
  {
   "cell_type": "code",
   "execution_count": 16,
   "metadata": {
    "id": "0722345c-df7c-4563-a112-d30ea25a9ed8"
   },
   "outputs": [],
   "source": [
    "# Implement OLS.\n",
    "\n",
    "### YOUR CODE HERE ###\n",
    "OLS = ols(formula = ols_formula, data = ols_data)"
   ]
  },
  {
   "cell_type": "markdown",
   "metadata": {
    "id": "b5569bad-28e8-45da-bee5-990ab592ff70",
    "tags": []
   },
   "source": [
    "<details>\n",
    "<summary><h4><strong>Hint 1</strong></h4></summary>\n",
    "\n",
    "Refer to the video that discusses model building for linear regression.  \n",
    "\n",
    "</details>"
   ]
  },
  {
   "cell_type": "markdown",
   "metadata": {
    "id": "8884acac-75a5-44e7-a4bc-e162d8753a93",
    "tags": []
   },
   "source": [
    "<details>\n",
    "<summary><h4><strong>Hint 2</strong></h4></summary>\n",
    "\n",
    "  There is a function from the `statsmodels` library that can be called to implement OLS.\n",
    "\n",
    "</details>"
   ]
  },
  {
   "cell_type": "markdown",
   "metadata": {
    "id": "89a8c604-1e36-40e5-bc6a-7d85f24c372b",
    "tags": []
   },
   "source": [
    "<details>\n",
    "<summary><h4><strong>Hint 3</strong></h4></summary>\n",
    "\n",
    "  You can call the `ols()` function from the `statsmodels` library.\n",
    "\n",
    "</details>"
   ]
  },
  {
   "cell_type": "markdown",
   "metadata": {
    "id": "d480f1b9-e772-4c45-aab0-d18600d43d3b"
   },
   "source": [
    "Now, create a linear regression model for the data and fit the model to the data."
   ]
  },
  {
   "cell_type": "code",
   "execution_count": 17,
   "metadata": {
    "id": "0927ac02-4f5d-4406-a4c1-56d2e5dbd223"
   },
   "outputs": [],
   "source": [
    "# Fit the model to the data.\n",
    "# Save the fitted model in a variable.\n",
    "\n",
    "### YOUR CODE HERE ###\n",
    "model = OLS.fit()"
   ]
  },
  {
   "cell_type": "markdown",
   "metadata": {
    "id": "ae5677e2-f2de-4f7e-99c2-df0bd23f32c0",
    "tags": []
   },
   "source": [
    "<details>\n",
    "<summary><h4><strong>Hint 1</strong></h4></summary>\n",
    "\n",
    "Refer to the video section where model building for linear regression is discussed.  \n",
    "\n",
    "</details>"
   ]
  },
  {
   "cell_type": "markdown",
   "metadata": {
    "id": "4c3cbaf2-f372-4f4d-be61-28f80de823d7",
    "tags": []
   },
   "source": [
    "<details>\n",
    "<summary><h4><strong>Hint 2</strong></h4></summary>\n",
    "\n",
    "  There is a function from the `statsmodels` library that can be called to fit the model.\n",
    "\n",
    "</details>"
   ]
  },
  {
   "cell_type": "markdown",
   "metadata": {
    "id": "ce5ed8ce-050a-4f99-905b-676444dd1f02",
    "tags": []
   },
   "source": [
    "<details>\n",
    "<summary><h4><strong>Hint 3</strong></h4></summary>\n",
    "\n",
    "Call the `fit()` function from the `statsmodels` library.\n",
    "\n",
    "</details>"
   ]
  },
  {
   "cell_type": "markdown",
   "metadata": {
    "id": "e4bb9926-05aa-45da-be69-0d373b9abb66"
   },
   "source": [
    "## **Step 4: Results and evaluation** \n"
   ]
  },
  {
   "cell_type": "markdown",
   "metadata": {
    "id": "91275e23-3c8a-4218-8525-13268d62c14b"
   },
   "source": [
    "Begin by getting a summary of the results from the model."
   ]
  },
  {
   "cell_type": "code",
   "execution_count": 19,
   "metadata": {
    "id": "de2160b6-3bdf-41a7-9743-f7cd6d4c38f8"
   },
   "outputs": [
    {
     "data": {
      "text/html": [
       "<table class=\"simpletable\">\n",
       "<caption>OLS Regression Results</caption>\n",
       "<tr>\n",
       "  <th>Dep. Variable:</th>          <td>Sales</td>      <th>  R-squared:         </th> <td>   0.757</td> \n",
       "</tr>\n",
       "<tr>\n",
       "  <th>Model:</th>                   <td>OLS</td>       <th>  Adj. R-squared:    </th> <td>   0.757</td> \n",
       "</tr>\n",
       "<tr>\n",
       "  <th>Method:</th>             <td>Least Squares</td>  <th>  F-statistic:       </th> <td>   1768.</td> \n",
       "</tr>\n",
       "<tr>\n",
       "  <th>Date:</th>             <td>Fri, 01 Sep 2023</td> <th>  Prob (F-statistic):</th> <td>2.07e-176</td>\n",
       "</tr>\n",
       "<tr>\n",
       "  <th>Time:</th>                 <td>22:47:23</td>     <th>  Log-Likelihood:    </th> <td> -2966.7</td> \n",
       "</tr>\n",
       "<tr>\n",
       "  <th>No. Observations:</th>      <td>   569</td>      <th>  AIC:               </th> <td>   5937.</td> \n",
       "</tr>\n",
       "<tr>\n",
       "  <th>Df Residuals:</th>          <td>   567</td>      <th>  BIC:               </th> <td>   5946.</td> \n",
       "</tr>\n",
       "<tr>\n",
       "  <th>Df Model:</th>              <td>     1</td>      <th>                     </th>     <td> </td>    \n",
       "</tr>\n",
       "<tr>\n",
       "  <th>Covariance Type:</th>      <td>nonrobust</td>    <th>                     </th>     <td> </td>    \n",
       "</tr>\n",
       "</table>\n",
       "<table class=\"simpletable\">\n",
       "<tr>\n",
       "      <td></td>         <th>coef</th>     <th>std err</th>      <th>t</th>      <th>P>|t|</th>  <th>[0.025</th>    <th>0.975]</th>  \n",
       "</tr>\n",
       "<tr>\n",
       "  <th>Intercept</th> <td>   41.5326</td> <td>    4.067</td> <td>   10.211</td> <td> 0.000</td> <td>   33.544</td> <td>   49.521</td>\n",
       "</tr>\n",
       "<tr>\n",
       "  <th>Radio</th>     <td>    8.1733</td> <td>    0.194</td> <td>   42.048</td> <td> 0.000</td> <td>    7.791</td> <td>    8.555</td>\n",
       "</tr>\n",
       "</table>\n",
       "<table class=\"simpletable\">\n",
       "<tr>\n",
       "  <th>Omnibus:</th>       <td> 2.267</td> <th>  Durbin-Watson:     </th> <td>   1.880</td>\n",
       "</tr>\n",
       "<tr>\n",
       "  <th>Prob(Omnibus):</th> <td> 0.322</td> <th>  Jarque-Bera (JB):  </th> <td>   2.221</td>\n",
       "</tr>\n",
       "<tr>\n",
       "  <th>Skew:</th>          <td>-0.102</td> <th>  Prob(JB):          </th> <td>   0.329</td>\n",
       "</tr>\n",
       "<tr>\n",
       "  <th>Kurtosis:</th>      <td> 2.772</td> <th>  Cond. No.          </th> <td>    45.7</td>\n",
       "</tr>\n",
       "</table><br/><br/>Warnings:<br/>[1] Standard Errors assume that the covariance matrix of the errors is correctly specified."
      ],
      "text/plain": [
       "<class 'statsmodels.iolib.summary.Summary'>\n",
       "\"\"\"\n",
       "                            OLS Regression Results                            \n",
       "==============================================================================\n",
       "Dep. Variable:                  Sales   R-squared:                       0.757\n",
       "Model:                            OLS   Adj. R-squared:                  0.757\n",
       "Method:                 Least Squares   F-statistic:                     1768.\n",
       "Date:                Fri, 01 Sep 2023   Prob (F-statistic):          2.07e-176\n",
       "Time:                        22:47:23   Log-Likelihood:                -2966.7\n",
       "No. Observations:                 569   AIC:                             5937.\n",
       "Df Residuals:                     567   BIC:                             5946.\n",
       "Df Model:                           1                                         \n",
       "Covariance Type:            nonrobust                                         \n",
       "==============================================================================\n",
       "                 coef    std err          t      P>|t|      [0.025      0.975]\n",
       "------------------------------------------------------------------------------\n",
       "Intercept     41.5326      4.067     10.211      0.000      33.544      49.521\n",
       "Radio          8.1733      0.194     42.048      0.000       7.791       8.555\n",
       "==============================================================================\n",
       "Omnibus:                        2.267   Durbin-Watson:                   1.880\n",
       "Prob(Omnibus):                  0.322   Jarque-Bera (JB):                2.221\n",
       "Skew:                          -0.102   Prob(JB):                        0.329\n",
       "Kurtosis:                       2.772   Cond. No.                         45.7\n",
       "==============================================================================\n",
       "\n",
       "Warnings:\n",
       "[1] Standard Errors assume that the covariance matrix of the errors is correctly specified.\n",
       "\"\"\""
      ]
     },
     "execution_count": 19,
     "metadata": {},
     "output_type": "execute_result"
    }
   ],
   "source": [
    "# Get summary of results.\n",
    "\n",
    "### YOUR CODE HERE ###\n",
    "model.summary()"
   ]
  },
  {
   "cell_type": "markdown",
   "metadata": {
    "id": "95984c14-a8b4-4d85-854b-0215b9be0419",
    "tags": []
   },
   "source": [
    "<details>\n",
    "<summary><h4><strong>Hint 1</strong></h4></summary>\n",
    "\n",
    "You may find it helpful to refer back to the video section where getting model results is discussed.  \n",
    "\n",
    "</details>"
   ]
  },
  {
   "cell_type": "markdown",
   "metadata": {
    "id": "45dddaed-a2f2-4328-b1c6-839cff1cbfe0",
    "tags": []
   },
   "source": [
    "<details>\n",
    "<summary><h4><strong>Hint 2</strong></h4></summary>\n",
    "\n",
    "  There is a function from the `statsmodels` library that can be called to get the summary of results from a model.\n",
    "\n",
    "</details>"
   ]
  },
  {
   "cell_type": "markdown",
   "metadata": {
    "id": "0fe50838-54b9-404f-b441-57fbe2be8b2d",
    "tags": []
   },
   "source": [
    "<details>\n",
    "<summary><h4><strong>Hint 3</strong></h4></summary>\n",
    "\n",
    "Call the `summary()` function from the `statsmodels` library.\n",
    "\n",
    "</details>"
   ]
  },
  {
   "cell_type": "markdown",
   "metadata": {
    "id": "557f7ef1-e1ee-4602-aa34-fb04bf5c3158"
   },
   "source": [
    "Next, analyze the bottom table from the results summary. Based on the table, identify the coefficients that the model determined would generate the line of best fit. The coefficients are the y-intercept and the slope. "
   ]
  },
  {
   "cell_type": "markdown",
   "metadata": {
    "id": "29ec7e9e-ded4-4621-9ef1-62836b90b3a6",
    "jp-MarkdownHeadingCollapsed": true,
    "tags": []
   },
   "source": [
    "**Question:** What is the y-intercept? "
   ]
  },
  {
   "cell_type": "markdown",
   "metadata": {
    "id": "3bV7OGngiVs2"
   },
   "source": [
    "[Write your response here. Double-click (or enter) to edit.]"
   ]
  },
  {
   "cell_type": "markdown",
   "metadata": {
    "id": "dbdbfc1c-fce0-4813-aafe-c58bfaa436b6",
    "jp-MarkdownHeadingCollapsed": true,
    "tags": []
   },
   "source": [
    "**Question:** What is the slope? "
   ]
  },
  {
   "cell_type": "markdown",
   "metadata": {
    "id": "QG_N49E5iWhM"
   },
   "source": [
    "[Write your response here. Double-click (or enter) to edit.]"
   ]
  },
  {
   "cell_type": "markdown",
   "metadata": {
    "id": "3521b6db-6c35-4574-9bea-17af4ef3dd96",
    "jp-MarkdownHeadingCollapsed": true,
    "tags": []
   },
   "source": [
    "**Question:** What linear equation would you write to express the relationship between sales and radio promotion budget? Use the form of y = slope * x + y-intercept? \n"
   ]
  },
  {
   "cell_type": "markdown",
   "metadata": {
    "id": "GGDkSwpWiXbA"
   },
   "source": [
    "[Write your response here. Double-click (or enter) to edit.]"
   ]
  },
  {
   "cell_type": "markdown",
   "metadata": {
    "id": "fcf820e2-426e-4554-a1a6-20cec9cacd12"
   },
   "source": [
    "**Question:** What does the slope mean in this context?"
   ]
  },
  {
   "cell_type": "markdown",
   "metadata": {
    "id": "oAadvPHziYWI"
   },
   "source": [
    "[Write your response here. Double-click (or enter) to edit.]"
   ]
  },
  {
   "cell_type": "markdown",
   "metadata": {
    "id": "729bb783-ffba-4799-a915-79128060f180"
   },
   "source": [
    "Now that you've built the linear regression model and fit it to the data, finish checking the model assumptions. This will help confirm your findings. First, plot the OLS data with the best fit regression line."
   ]
  },
  {
   "cell_type": "code",
   "execution_count": 20,
   "metadata": {
    "id": "a41ef379-d2a6-474b-80ce-61dc7a6ad7dd"
   },
   "outputs": [
    {
     "data": {
      "text/plain": [
       "<matplotlib.axes._subplots.AxesSubplot at 0x7feeb703e110>"
      ]
     },
     "execution_count": 20,
     "metadata": {},
     "output_type": "execute_result"
    },
    {
     "data": {
      "image/png": "[encoded data removed]",
      "text/plain": [
       "<Figure size 432x288 with 1 Axes>"
      ]
     },
     "metadata": {
      "needs_background": "light"
     },
     "output_type": "display_data"
    }
   ],
   "source": [
    "# Plot the OLS data with the best fit regression line.\n",
    "\n",
    "### YOUR CODE HERE ###\n",
    "sns.regplot(x = 'Radio', y = 'Sales', data = ols_data)"
   ]
  },
  {
   "cell_type": "markdown",
   "metadata": {
    "id": "3684ed67-e472-4800-a0b0-b43774541afb",
    "tags": []
   },
   "source": [
    "<details>\n",
    "<summary><h4><strong>Hint 1</strong></h4></summary>\n",
    "\n",
    "Refer to the video about plotting data with the best fit regression line.  \n",
    "\n",
    "</details>"
   ]
  },
  {
   "cell_type": "markdown",
   "metadata": {
    "id": "516bc013-1786-4551-91a5-088cf27c9cb1",
    "tags": []
   },
   "source": [
    "<details>\n",
    "<summary><h4><strong>Hint 2</strong></h4></summary>\n",
    "\n",
    "  There is a function from the `seaborn` library that can be useful here.\n",
    "\n",
    "</details>"
   ]
  },
  {
   "cell_type": "markdown",
   "metadata": {
    "id": "098a9e51-5138-411b-bde8-0c622ce10323",
    "tags": []
   },
   "source": [
    "<details>\n",
    "<summary><h4><strong>Hint 3</strong></h4></summary>\n",
    "\n",
    "Call the `regplot()` function from the `seaborn` library.\n",
    "\n",
    "</details>"
   ]
  },
  {
   "cell_type": "markdown",
   "metadata": {
    "id": "ad67e686-dd0e-4582-b867-47fe112a53f0"
   },
   "source": [
    "**Question:** What do you observe from the regression plot above?"
   ]
  },
  {
   "cell_type": "markdown",
   "metadata": {
    "id": "AhZ1_iEiiZrS"
   },
   "source": [
    "[Write your response here. Double-click (or enter) to edit.]"
   ]
  },
  {
   "cell_type": "markdown",
   "metadata": {
    "id": "72138441-ca7c-4afe-bfe4-aaf0e7aada24"
   },
   "source": [
    "Now, check the normality assumption. Get the residuals from the model."
   ]
  },
  {
   "cell_type": "code",
   "execution_count": 21,
   "metadata": {
    "id": "78650cbb-eb48-469f-88b7-f91914b79ea4"
   },
   "outputs": [],
   "source": [
    "# Get the residuals from the model.\n",
    "\n",
    "### YOUR CODE HERE ###\n",
    "residuals = model.resid"
   ]
  },
  {
   "cell_type": "markdown",
   "metadata": {
    "id": "253395c5-75ef-4791-85b3-a6be7a2683ce",
    "tags": []
   },
   "source": [
    "<details>\n",
    "<summary><h4><strong>Hint 1</strong></h4></summary>\n",
    "\n",
    "Refer to the video about accessing residuals.  \n",
    "\n",
    "</details>"
   ]
  },
  {
   "cell_type": "markdown",
   "metadata": {
    "id": "3ab36332-ff4d-4ff0-89d9-96c15a86d005",
    "tags": []
   },
   "source": [
    "<details>\n",
    "<summary><h4><strong>Hint 2</strong></h4></summary>\n",
    "\n",
    "  There is an attribute from the `statsmodels` library that can be called to get the residuals from a fitted model.\n",
    "\n",
    "</details>"
   ]
  },
  {
   "cell_type": "markdown",
   "metadata": {
    "id": "3d6c0477-af7c-4850-8a4e-db8cde350c6d",
    "tags": []
   },
   "source": [
    "<details>\n",
    "<summary><h4><strong>Hint 3</strong></h4></summary>\n",
    "\n",
    "Call the `resid` attribute from the `statsmodels` library.\n",
    "\n",
    "</details>"
   ]
  },
  {
   "cell_type": "markdown",
   "metadata": {
    "id": "666b1d10-0aaa-46c8-ba9f-fc096e1ec989"
   },
   "source": [
    "Now, visualize the distribution of the residuals."
   ]
  },
  {
   "cell_type": "code",
   "execution_count": 23,
   "metadata": {
    "id": "1ea40581-121a-4d71-b421-7a888fd3b538"
   },
   "outputs": [
    {
     "data": {
      "image/png": "[encoded data removed]",
      "text/plain": [
       "<Figure size 432x288 with 1 Axes>"
      ]
     },
     "metadata": {
      "needs_background": "light"
     },
     "output_type": "display_data"
    }
   ],
   "source": [
    "# Visualize the distribution of the residuals.\n",
    "\n",
    "### YOUR CODE HERE ###\n",
    "fig = sns.histplot(residuals)\n",
    "fig.set_xlabel(\"Residual Value\")\n",
    "fig.set_title(\"Histogram of Residuals\")\n",
    "plt.show()"
   ]
  },
  {
   "cell_type": "markdown",
   "metadata": {
    "id": "4c3bb284-6e46-4c13-84ea-d40f3898ec0c",
    "tags": []
   },
   "source": [
    "<details>\n",
    "<summary><h4><strong>Hint 1</strong></h4></summary>\n",
    "\n",
    "Refer to the video about visualizing residuals.  \n",
    "\n",
    "</details>"
   ]
  },
  {
   "cell_type": "markdown",
   "metadata": {
    "id": "e7124d39-997b-4bee-b6b5-e42d10f7f83e",
    "tags": []
   },
   "source": [
    "<details>\n",
    "<summary><h4><strong>Hint 2</strong></h4></summary>\n",
    "\n",
    "  There is a function from the `seaborn` library that can be called to create a histogram.\n",
    "\n",
    "</details>"
   ]
  },
  {
   "cell_type": "markdown",
   "metadata": {
    "id": "693b2c61-7196-4e72-86e7-f35722739f0f",
    "tags": []
   },
   "source": [
    "<details>\n",
    "<summary><h4><strong>Hint 3</strong></h4></summary>\n",
    "\n",
    "Call the `histplot()` function from the `seaborn` library.\n",
    "\n",
    "</details>"
   ]
  },
  {
   "cell_type": "markdown",
   "metadata": {
    "id": "a7eca70a-cbe7-4e61-b712-3eae5cf6da34"
   },
   "source": [
    "**Question:** Based on the visualization, what do you observe about the distribution of the residuals?"
   ]
  },
  {
   "cell_type": "markdown",
   "metadata": {
    "id": "nymTKHlGia2z"
   },
   "source": [
    "[Write your response here. Double-click (or enter) to edit.]"
   ]
  },
  {
   "cell_type": "markdown",
   "metadata": {
    "id": "368b2874-1289-465d-a2cd-c0b24dacf682"
   },
   "source": [
    "Next, create a Q-Q plot to confirm the assumption of normality."
   ]
  },
  {
   "cell_type": "code",
   "execution_count": 24,
   "metadata": {
    "id": "475aa7cd-c410-4116-93eb-6b6607f75409"
   },
   "outputs": [
    {
     "data": {
      "image/png": "[encoded data removed]",
      "text/plain": [
       "<Figure size 432x288 with 1 Axes>"
      ]
     },
     "metadata": {
      "needs_background": "light"
     },
     "output_type": "display_data"
    }
   ],
   "source": [
    "# Create a Q-Q plot.\n",
    "\n",
    "### YOUR CODE HERE ###\n",
    "sm.qqplot(residuals,line = 's')\n",
    "plt.title('a')\n",
    "plt.show()\n"
   ]
  },
  {
   "cell_type": "markdown",
   "metadata": {
    "id": "2f5278be-49cd-4cb3-80a2-dccae87192fd",
    "tags": []
   },
   "source": [
    "<details>\n",
    "<summary><h4><strong>Hint 1</strong></h4></summary>\n",
    "\n",
    "Refer to the video about creating a Q-Q plot.  \n",
    "\n",
    "</details>"
   ]
  },
  {
   "cell_type": "markdown",
   "metadata": {
    "id": "e1d4e7e6-55df-4fa3-97b1-5306b38ceb67",
    "tags": []
   },
   "source": [
    "<details>\n",
    "<summary><h4><strong>Hint 2</strong></h4></summary>\n",
    "\n",
    "  There is a function from the `seaborn` library that can be called to create a Q-Q plot.\n",
    "\n",
    "</details>"
   ]
  },
  {
   "cell_type": "markdown",
   "metadata": {
    "id": "48c76f2c-459a-497e-ab7b-4a812166c627",
    "tags": []
   },
   "source": [
    "<details>\n",
    "<summary><h4><strong>Hint 3</strong></h4></summary>\n",
    "\n",
    "Call the `qqplot()` function from the `seaborn` library.\n",
    "\n",
    "</details>"
   ]
  },
  {
   "cell_type": "markdown",
   "metadata": {
    "id": "b343172c-32e9-4d71-a353-5b769460afe1"
   },
   "source": [
    "**Question:** Is the assumption of normality met?"
   ]
  },
  {
   "cell_type": "markdown",
   "metadata": {
    "id": "rZCW2Sfsib7T"
   },
   "source": [
    "[Write your response here. Double-click (or enter) to edit.]"
   ]
  },
  {
   "cell_type": "markdown",
   "metadata": {
    "id": "f0cd9598-a10f-4ba4-8103-a4fe017017ce"
   },
   "source": [
    "Now, check the assumptions of independent observation and homoscedasticity. Start by getting the fitted values from the model."
   ]
  },
  {
   "cell_type": "code",
   "execution_count": 25,
   "metadata": {
    "id": "7a1df62d-2597-409b-9e1b-5a0b72a01359"
   },
   "outputs": [],
   "source": [
    "# Get fitted values.\n",
    "\n",
    "### YOUR CODE HERE ###\n",
    "fitted_values = model.predict(ols_data['Radio'])"
   ]
  },
  {
   "cell_type": "markdown",
   "metadata": {
    "id": "9026e8bb-07a0-4263-b664-0448b6fb934e",
    "tags": []
   },
   "source": [
    "<details>\n",
    "<summary><h4><strong>Hint 1</strong></h4></summary>\n",
    "\n",
    "Refer to the video about calculating fitted values.  \n",
    "\n",
    "</details>"
   ]
  },
  {
   "cell_type": "markdown",
   "metadata": {
    "id": "a6123afa-c5e8-4d45-a2d6-e6750d748f95",
    "tags": []
   },
   "source": [
    "<details>\n",
    "<summary><h4><strong>Hint 2</strong></h4></summary>\n",
    "\n",
    "  There is a function from the `statsmodels` library that can be called to calculate fitted values from the model.\n",
    "\n",
    "</details>"
   ]
  },
  {
   "cell_type": "markdown",
   "metadata": {
    "id": "b8034b30-f8e9-4b38-8afb-c7ed38b94711",
    "tags": []
   },
   "source": [
    "<details>\n",
    "<summary><h4><strong>Hint 3</strong></h4></summary>\n",
    "\n",
    "Call the `predict()` function from the `statsmodels` library. Make sure to pass in the column from `ols_data` corresponding to the x variable.\n",
    "\n",
    "</details>"
   ]
  },
  {
   "cell_type": "markdown",
   "metadata": {
    "id": "309d0258-0c94-4857-be28-ae67b282ce3d"
   },
   "source": [
    "Next, create a scatterplot of the residuals against the fitted values."
   ]
  },
  {
   "cell_type": "code",
   "execution_count": 26,
   "metadata": {
    "id": "baec4c75-1b60-4c3f-bcb2-56abea7088bd"
   },
   "outputs": [
    {
     "data": {
      "image/png": "[encoded data removed]",
      "text/plain": [
       "<Figure size 432x288 with 1 Axes>"
      ]
     },
     "metadata": {
      "needs_background": "light"
     },
     "output_type": "display_data"
    }
   ],
   "source": [
    "# Create a scatterplot of residuals against fitted values.\n",
    "\n",
    "### YOUR CODE HERE ###\n",
    "\n",
    "fig = sns.scatterplot(x = fitted_values, y = residuals)\n",
    "fig.axhline(0)\n",
    "fig.set_xlabel('fitted values')\n",
    "fig.set_ylabel('residuals')\n",
    "plt.show()"
   ]
  },
  {
   "cell_type": "markdown",
   "metadata": {
    "id": "afe532da-1b40-496c-b948-47e4b426246c",
    "tags": []
   },
   "source": [
    "<details>\n",
    "<summary><h4><strong>Hint 1</strong></h4></summary>\n",
    "\n",
    "Refer to the video about visualizing residuals against fitted values.\n",
    "\n",
    "</details>"
   ]
  },
  {
   "cell_type": "markdown",
   "metadata": {
    "id": "a3b18175-7f72-44a7-8a17-046ba30dc4c6",
    "tags": []
   },
   "source": [
    "<details>\n",
    "<summary><h4><strong>Hint 2</strong></h4></summary>\n",
    "\n",
    "  There is a function from the `seaborn` library that can be called to create a scatterplot.\n",
    "\n",
    "</details>"
   ]
  },
  {
   "cell_type": "markdown",
   "metadata": {
    "id": "81b77acb-1e0b-44b4-89be-123d3843e2a6",
    "tags": []
   },
   "source": [
    "<details>\n",
    "  <summary><h4>Hint 3</h4></summary>\n",
    "\n",
    "Call the `scatterplot()` function from the `seaborn` library.\n",
    "\n",
    "</details>"
   ]
  },
  {
   "cell_type": "markdown",
   "metadata": {
    "id": "93d6469f-8fc1-4cbb-b551-d7be8f506f3e"
   },
   "source": [
    "**Question:** Are the assumptions of independent observation and homoscedasticity met?\n"
   ]
  },
  {
   "cell_type": "markdown",
   "metadata": {
    "id": "qceg6rqUidGl"
   },
   "source": [
    "[Write your response here. Double-click (or enter) to edit.]"
   ]
  },
  {
   "cell_type": "markdown",
   "metadata": {
    "id": "29f336ab-8b70-446e-9498-b56740728e87"
   },
   "source": [
    "## **Considerations**"
   ]
  },
  {
   "cell_type": "markdown",
   "metadata": {
    "id": "B8QDsK1eZ691"
   },
   "source": [
    "**What are some key takeaways that you learned during this lab?**"
   ]
  },
  {
   "cell_type": "markdown",
   "metadata": {
    "id": "s9QOOQVViyS8"
   },
   "source": [
    "[Write your response here. Double-click (or enter) to edit.]"
   ]
  },
  {
   "cell_type": "markdown",
   "metadata": {
    "id": "TAf52zLaiqys"
   },
   "source": [
    "**How would you present your findings from this lab to others?**"
   ]
  },
  {
   "cell_type": "markdown",
   "metadata": {
    "id": "fSVZtCPhizkd"
   },
   "source": [
    "[Write your response here. Double-click (or enter) to edit.]"
   ]
  },
  {
   "cell_type": "markdown",
   "metadata": {
    "id": "Wi_DUs07it_J"
   },
   "source": [
    "**What summary would you provide to stakeholders?**"
   ]
  },
  {
   "cell_type": "markdown",
   "metadata": {
    "id": "gedSOV7ni0YB"
   },
   "source": [
    "[Write your response here. Double-click (or enter) to edit.]"
   ]
  },
  {
   "cell_type": "markdown",
   "metadata": {
    "id": "TLd689mcydX2"
   },
   "source": [
    "**References**\n",
    "\n",
    "[Pandas.DataFrame.Any — Pandas 1.4.3 Documentation.](https://pandas.pydata.org/docs/reference/api/pandas.DataFrame.any.html)\n",
    "\n",
    "[Pandas.DataFrame.Isna — Pandas 1.4.3 Documentation.](https://pandas.pydata.org/docs/reference/api/pandas.DataFrame.isna.html)\n",
    "\n",
    "[Pandas.Series.Sum — Pandas 1.4.3 Documentation.](https://pandas.pydata.org/docs/reference/api/pandas.Series.sum.html)\n",
    "\n",
    "[Saragih, H.S. *Dummy Marketing and Sales Data*.](https://www.kaggle.com/datasets/harrimansaragih/dummy-advertising-and-sales-data)"
   ]
  },
  {
   "cell_type": "code",
   "execution_count": null,
   "metadata": {
    "id": "acUurV2B5LZX"
   },
   "outputs": [],
   "source": []
  }
 ],
 "metadata": {
  "colab": {
   "collapsed_sections": [
    "04271393-b4a7-40b8-8cfd-6dfd815f52bd",
    "29ec7e9e-ded4-4621-9ef1-62836b90b3a6",
    "dbdbfc1c-fce0-4813-aafe-c58bfaa436b6",
    "3521b6db-6c35-4574-9bea-17af4ef3dd96",
    "ad67e686-dd0e-4582-b867-47fe112a53f0",
    "a7eca70a-cbe7-4e61-b712-3eae5cf6da34",
    "b343172c-32e9-4d71-a353-5b769460afe1"
   ],
   "name": "SR-051_Learner_Facing_Lab_Round4.ipynb",
   "provenance": [],
   "toc_visible": true
  },
  "kernelspec": {
   "display_name": "Python 3",
   "language": "python",
   "name": "python3"
  },
  "language_info": {
   "codemirror_mode": {
    "name": "ipython",
    "version": 3
   },
   "file_extension": ".py",
   "mimetype": "text/x-python",
   "name": "python",
   "nbconvert_exporter": "python",
   "pygments_lexer": "ipython3",
   "version": "3.7.4"
  }
 },
 "nbformat": 4,
 "nbformat_minor": 5
}
